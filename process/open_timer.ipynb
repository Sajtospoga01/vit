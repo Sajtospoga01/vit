{
 "cells": [
  {
   "cell_type": "code",
   "execution_count": 2,
   "metadata": {},
   "outputs": [],
   "source": [
    "import numpy as np\n",
    "import rasterio \n",
    "from PIL import Image\n",
    "import cv2\n",
    "import os"
   ]
  },
  {
   "cell_type": "code",
   "execution_count": 3,
   "metadata": {},
   "outputs": [
    {
     "name": "stdout",
     "output_type": "stream",
     "text": [
      "['C:\\\\Users\\\\andra\\\\guorbit\\\\dataset\\\\e_tr\\\\image\\\\O10_0001.tif', 'C:\\\\Users\\\\andra\\\\guorbit\\\\dataset\\\\e_tr\\\\image\\\\O10_0002.tif', 'C:\\\\Users\\\\andra\\\\guorbit\\\\dataset\\\\e_tr\\\\image\\\\O10_0003.tif', 'C:\\\\Users\\\\andra\\\\guorbit\\\\dataset\\\\e_tr\\\\image\\\\O10_0004.tif', 'C:\\\\Users\\\\andra\\\\guorbit\\\\dataset\\\\e_tr\\\\image\\\\O10_0005.tif', 'C:\\\\Users\\\\andra\\\\guorbit\\\\dataset\\\\e_tr\\\\image\\\\O10_0006.tif', 'C:\\\\Users\\\\andra\\\\guorbit\\\\dataset\\\\e_tr\\\\image\\\\O10_0007.tif', 'C:\\\\Users\\\\andra\\\\guorbit\\\\dataset\\\\e_tr\\\\image\\\\O10_0008.tif', 'C:\\\\Users\\\\andra\\\\guorbit\\\\dataset\\\\e_tr\\\\image\\\\O10_0009.tif', 'C:\\\\Users\\\\andra\\\\guorbit\\\\dataset\\\\e_tr\\\\image\\\\O10_0010.tif', 'C:\\\\Users\\\\andra\\\\guorbit\\\\dataset\\\\e_tr\\\\image\\\\O10_0011.tif', 'C:\\\\Users\\\\andra\\\\guorbit\\\\dataset\\\\e_tr\\\\image\\\\O10_0012.tif', 'C:\\\\Users\\\\andra\\\\guorbit\\\\dataset\\\\e_tr\\\\image\\\\O10_0013.tif', 'C:\\\\Users\\\\andra\\\\guorbit\\\\dataset\\\\e_tr\\\\image\\\\O10_0014.tif', 'C:\\\\Users\\\\andra\\\\guorbit\\\\dataset\\\\e_tr\\\\image\\\\O10_0015.tif', 'C:\\\\Users\\\\andra\\\\guorbit\\\\dataset\\\\e_tr\\\\image\\\\O10_0016.tif', 'C:\\\\Users\\\\andra\\\\guorbit\\\\dataset\\\\e_tr\\\\image\\\\O10_0017.tif', 'C:\\\\Users\\\\andra\\\\guorbit\\\\dataset\\\\e_tr\\\\image\\\\O10_0018.tif', 'C:\\\\Users\\\\andra\\\\guorbit\\\\dataset\\\\e_tr\\\\image\\\\O10_0019.tif', 'C:\\\\Users\\\\andra\\\\guorbit\\\\dataset\\\\e_tr\\\\image\\\\O10_0020.tif', 'C:\\\\Users\\\\andra\\\\guorbit\\\\dataset\\\\e_tr\\\\image\\\\O10_0022.tif', 'C:\\\\Users\\\\andra\\\\guorbit\\\\dataset\\\\e_tr\\\\image\\\\O10_0023.tif', 'C:\\\\Users\\\\andra\\\\guorbit\\\\dataset\\\\e_tr\\\\image\\\\O10_0024.tif', 'C:\\\\Users\\\\andra\\\\guorbit\\\\dataset\\\\e_tr\\\\image\\\\O10_0025.tif', 'C:\\\\Users\\\\andra\\\\guorbit\\\\dataset\\\\e_tr\\\\image\\\\O10_0026.tif', 'C:\\\\Users\\\\andra\\\\guorbit\\\\dataset\\\\e_tr\\\\image\\\\O10_0027.tif', 'C:\\\\Users\\\\andra\\\\guorbit\\\\dataset\\\\e_tr\\\\image\\\\O10_0028.tif', 'C:\\\\Users\\\\andra\\\\guorbit\\\\dataset\\\\e_tr\\\\image\\\\O10_0029.tif', 'C:\\\\Users\\\\andra\\\\guorbit\\\\dataset\\\\e_tr\\\\image\\\\O10_0030.tif', 'C:\\\\Users\\\\andra\\\\guorbit\\\\dataset\\\\e_tr\\\\image\\\\O10_0031.tif', 'C:\\\\Users\\\\andra\\\\guorbit\\\\dataset\\\\e_tr\\\\image\\\\O10_0032.tif', 'C:\\\\Users\\\\andra\\\\guorbit\\\\dataset\\\\e_tr\\\\image\\\\O10_0034.tif', 'C:\\\\Users\\\\andra\\\\guorbit\\\\dataset\\\\e_tr\\\\image\\\\O10_0035.tif', 'C:\\\\Users\\\\andra\\\\guorbit\\\\dataset\\\\e_tr\\\\image\\\\O10_0036.tif', 'C:\\\\Users\\\\andra\\\\guorbit\\\\dataset\\\\e_tr\\\\image\\\\O10_0039.tif', 'C:\\\\Users\\\\andra\\\\guorbit\\\\dataset\\\\e_tr\\\\image\\\\O10_0040.tif', 'C:\\\\Users\\\\andra\\\\guorbit\\\\dataset\\\\e_tr\\\\image\\\\O10_0041.tif', 'C:\\\\Users\\\\andra\\\\guorbit\\\\dataset\\\\e_tr\\\\image\\\\O10_0042.tif', 'C:\\\\Users\\\\andra\\\\guorbit\\\\dataset\\\\e_tr\\\\image\\\\O10_0043.tif', 'C:\\\\Users\\\\andra\\\\guorbit\\\\dataset\\\\e_tr\\\\image\\\\O10_0044.tif', 'C:\\\\Users\\\\andra\\\\guorbit\\\\dataset\\\\e_tr\\\\image\\\\O10_0046.tif', 'C:\\\\Users\\\\andra\\\\guorbit\\\\dataset\\\\e_tr\\\\image\\\\O10_0047.tif', 'C:\\\\Users\\\\andra\\\\guorbit\\\\dataset\\\\e_tr\\\\image\\\\O10_0048.tif', 'C:\\\\Users\\\\andra\\\\guorbit\\\\dataset\\\\e_tr\\\\image\\\\O10_0049.tif', 'C:\\\\Users\\\\andra\\\\guorbit\\\\dataset\\\\e_tr\\\\image\\\\O10_0050.tif', 'C:\\\\Users\\\\andra\\\\guorbit\\\\dataset\\\\e_tr\\\\image\\\\O10_0052.tif', 'C:\\\\Users\\\\andra\\\\guorbit\\\\dataset\\\\e_tr\\\\image\\\\O10_0053.tif', 'C:\\\\Users\\\\andra\\\\guorbit\\\\dataset\\\\e_tr\\\\image\\\\O10_0054.tif', 'C:\\\\Users\\\\andra\\\\guorbit\\\\dataset\\\\e_tr\\\\image\\\\O10_0055.tif', 'C:\\\\Users\\\\andra\\\\guorbit\\\\dataset\\\\e_tr\\\\image\\\\O10_0056.tif', 'C:\\\\Users\\\\andra\\\\guorbit\\\\dataset\\\\e_tr\\\\image\\\\O10_0057.tif', 'C:\\\\Users\\\\andra\\\\guorbit\\\\dataset\\\\e_tr\\\\image\\\\O10_0058.tif', 'C:\\\\Users\\\\andra\\\\guorbit\\\\dataset\\\\e_tr\\\\image\\\\O10_0061.tif', 'C:\\\\Users\\\\andra\\\\guorbit\\\\dataset\\\\e_tr\\\\image\\\\O10_0062.tif', 'C:\\\\Users\\\\andra\\\\guorbit\\\\dataset\\\\e_tr\\\\image\\\\O10_0063.tif', 'C:\\\\Users\\\\andra\\\\guorbit\\\\dataset\\\\e_tr\\\\image\\\\O10_0064.tif', 'C:\\\\Users\\\\andra\\\\guorbit\\\\dataset\\\\e_tr\\\\image\\\\O10_0066.tif', 'C:\\\\Users\\\\andra\\\\guorbit\\\\dataset\\\\e_tr\\\\image\\\\O10_0068.tif', 'C:\\\\Users\\\\andra\\\\guorbit\\\\dataset\\\\e_tr\\\\image\\\\O10_0069.tif', 'C:\\\\Users\\\\andra\\\\guorbit\\\\dataset\\\\e_tr\\\\image\\\\O10_0070.tif', 'C:\\\\Users\\\\andra\\\\guorbit\\\\dataset\\\\e_tr\\\\image\\\\O10_0071.tif', 'C:\\\\Users\\\\andra\\\\guorbit\\\\dataset\\\\e_tr\\\\image\\\\O10_0072.tif', 'C:\\\\Users\\\\andra\\\\guorbit\\\\dataset\\\\e_tr\\\\image\\\\O10_0073.tif', 'C:\\\\Users\\\\andra\\\\guorbit\\\\dataset\\\\e_tr\\\\image\\\\O10_0074.tif', 'C:\\\\Users\\\\andra\\\\guorbit\\\\dataset\\\\e_tr\\\\image\\\\O10_0075.tif', 'C:\\\\Users\\\\andra\\\\guorbit\\\\dataset\\\\e_tr\\\\image\\\\O10_0076.tif', 'C:\\\\Users\\\\andra\\\\guorbit\\\\dataset\\\\e_tr\\\\image\\\\O10_0077.tif', 'C:\\\\Users\\\\andra\\\\guorbit\\\\dataset\\\\e_tr\\\\image\\\\O10_0078.tif', 'C:\\\\Users\\\\andra\\\\guorbit\\\\dataset\\\\e_tr\\\\image\\\\O10_0079.tif', 'C:\\\\Users\\\\andra\\\\guorbit\\\\dataset\\\\e_tr\\\\image\\\\O10_0081.tif', 'C:\\\\Users\\\\andra\\\\guorbit\\\\dataset\\\\e_tr\\\\image\\\\O10_0082.tif', 'C:\\\\Users\\\\andra\\\\guorbit\\\\dataset\\\\e_tr\\\\image\\\\O10_0083.tif', 'C:\\\\Users\\\\andra\\\\guorbit\\\\dataset\\\\e_tr\\\\image\\\\O10_0085.tif', 'C:\\\\Users\\\\andra\\\\guorbit\\\\dataset\\\\e_tr\\\\image\\\\O10_0086.tif', 'C:\\\\Users\\\\andra\\\\guorbit\\\\dataset\\\\e_tr\\\\image\\\\O10_0089.tif', 'C:\\\\Users\\\\andra\\\\guorbit\\\\dataset\\\\e_tr\\\\image\\\\O10_0090.tif', 'C:\\\\Users\\\\andra\\\\guorbit\\\\dataset\\\\e_tr\\\\image\\\\O10_0091.tif', 'C:\\\\Users\\\\andra\\\\guorbit\\\\dataset\\\\e_tr\\\\image\\\\O10_0092.tif', 'C:\\\\Users\\\\andra\\\\guorbit\\\\dataset\\\\e_tr\\\\image\\\\O10_0093.tif', 'C:\\\\Users\\\\andra\\\\guorbit\\\\dataset\\\\e_tr\\\\image\\\\O10_0094.tif', 'C:\\\\Users\\\\andra\\\\guorbit\\\\dataset\\\\e_tr\\\\image\\\\O10_0095.tif', 'C:\\\\Users\\\\andra\\\\guorbit\\\\dataset\\\\e_tr\\\\image\\\\O10_0096.tif', 'C:\\\\Users\\\\andra\\\\guorbit\\\\dataset\\\\e_tr\\\\image\\\\O10_0097.tif', 'C:\\\\Users\\\\andra\\\\guorbit\\\\dataset\\\\e_tr\\\\image\\\\O10_0099.tif', 'C:\\\\Users\\\\andra\\\\guorbit\\\\dataset\\\\e_tr\\\\image\\\\O10_0100.tif', 'C:\\\\Users\\\\andra\\\\guorbit\\\\dataset\\\\e_tr\\\\image\\\\O10_0101.tif', 'C:\\\\Users\\\\andra\\\\guorbit\\\\dataset\\\\e_tr\\\\image\\\\O10_0102.tif', 'C:\\\\Users\\\\andra\\\\guorbit\\\\dataset\\\\e_tr\\\\image\\\\O10_0103.tif', 'C:\\\\Users\\\\andra\\\\guorbit\\\\dataset\\\\e_tr\\\\image\\\\O10_0104.tif', 'C:\\\\Users\\\\andra\\\\guorbit\\\\dataset\\\\e_tr\\\\image\\\\O10_0105.tif', 'C:\\\\Users\\\\andra\\\\guorbit\\\\dataset\\\\e_tr\\\\image\\\\O10_0106.tif', 'C:\\\\Users\\\\andra\\\\guorbit\\\\dataset\\\\e_tr\\\\image\\\\O10_0107.tif', 'C:\\\\Users\\\\andra\\\\guorbit\\\\dataset\\\\e_tr\\\\image\\\\O10_0108.tif', 'C:\\\\Users\\\\andra\\\\guorbit\\\\dataset\\\\e_tr\\\\image\\\\O10_0109.tif', 'C:\\\\Users\\\\andra\\\\guorbit\\\\dataset\\\\e_tr\\\\image\\\\O10_0110.tif', 'C:\\\\Users\\\\andra\\\\guorbit\\\\dataset\\\\e_tr\\\\image\\\\O10_0111.tif', 'C:\\\\Users\\\\andra\\\\guorbit\\\\dataset\\\\e_tr\\\\image\\\\O10_0112.tif', 'C:\\\\Users\\\\andra\\\\guorbit\\\\dataset\\\\e_tr\\\\image\\\\O10_0113.tif', 'C:\\\\Users\\\\andra\\\\guorbit\\\\dataset\\\\e_tr\\\\image\\\\O10_0114.tif', 'C:\\\\Users\\\\andra\\\\guorbit\\\\dataset\\\\e_tr\\\\image\\\\O10_0115.tif', 'C:\\\\Users\\\\andra\\\\guorbit\\\\dataset\\\\e_tr\\\\image\\\\O10_0116.tif', 'C:\\\\Users\\\\andra\\\\guorbit\\\\dataset\\\\e_tr\\\\image\\\\O10_0117.tif', 'C:\\\\Users\\\\andra\\\\guorbit\\\\dataset\\\\e_tr\\\\image\\\\O10_0118.tif', 'C:\\\\Users\\\\andra\\\\guorbit\\\\dataset\\\\e_tr\\\\image\\\\O10_0119.tif', 'C:\\\\Users\\\\andra\\\\guorbit\\\\dataset\\\\e_tr\\\\image\\\\O10_0120.tif', 'C:\\\\Users\\\\andra\\\\guorbit\\\\dataset\\\\e_tr\\\\image\\\\O10_0121.tif', 'C:\\\\Users\\\\andra\\\\guorbit\\\\dataset\\\\e_tr\\\\image\\\\O10_0123.tif', 'C:\\\\Users\\\\andra\\\\guorbit\\\\dataset\\\\e_tr\\\\image\\\\O10_0126.tif', 'C:\\\\Users\\\\andra\\\\guorbit\\\\dataset\\\\e_tr\\\\image\\\\O10_0127.tif', 'C:\\\\Users\\\\andra\\\\guorbit\\\\dataset\\\\e_tr\\\\image\\\\O10_0128.tif', 'C:\\\\Users\\\\andra\\\\guorbit\\\\dataset\\\\e_tr\\\\image\\\\O10_0129.tif', 'C:\\\\Users\\\\andra\\\\guorbit\\\\dataset\\\\e_tr\\\\image\\\\O11_0001.tif', 'C:\\\\Users\\\\andra\\\\guorbit\\\\dataset\\\\e_tr\\\\image\\\\O11_0002.tif', 'C:\\\\Users\\\\andra\\\\guorbit\\\\dataset\\\\e_tr\\\\image\\\\O11_0003.tif', 'C:\\\\Users\\\\andra\\\\guorbit\\\\dataset\\\\e_tr\\\\image\\\\O11_0004.tif', 'C:\\\\Users\\\\andra\\\\guorbit\\\\dataset\\\\e_tr\\\\image\\\\O11_0005.tif', 'C:\\\\Users\\\\andra\\\\guorbit\\\\dataset\\\\e_tr\\\\image\\\\O11_0006.tif', 'C:\\\\Users\\\\andra\\\\guorbit\\\\dataset\\\\e_tr\\\\image\\\\O11_0007.tif', 'C:\\\\Users\\\\andra\\\\guorbit\\\\dataset\\\\e_tr\\\\image\\\\O11_0008.tif', 'C:\\\\Users\\\\andra\\\\guorbit\\\\dataset\\\\e_tr\\\\image\\\\O11_0010.tif', 'C:\\\\Users\\\\andra\\\\guorbit\\\\dataset\\\\e_tr\\\\image\\\\O11_0011.tif', 'C:\\\\Users\\\\andra\\\\guorbit\\\\dataset\\\\e_tr\\\\image\\\\O11_0012.tif', 'C:\\\\Users\\\\andra\\\\guorbit\\\\dataset\\\\e_tr\\\\image\\\\O11_0013.tif', 'C:\\\\Users\\\\andra\\\\guorbit\\\\dataset\\\\e_tr\\\\image\\\\O11_0014.tif', 'C:\\\\Users\\\\andra\\\\guorbit\\\\dataset\\\\e_tr\\\\image\\\\O11_0015.tif', 'C:\\\\Users\\\\andra\\\\guorbit\\\\dataset\\\\e_tr\\\\image\\\\O11_0016.tif', 'C:\\\\Users\\\\andra\\\\guorbit\\\\dataset\\\\e_tr\\\\image\\\\O11_0017.tif', 'C:\\\\Users\\\\andra\\\\guorbit\\\\dataset\\\\e_tr\\\\image\\\\O11_0018.tif']\n"
     ]
    }
   ],
   "source": [
    "batch_size = 128\n",
    "path = os.path.join(\"C:\\\\Users\\\\andra\\\\guorbit\\\\dataset\", \"e_tr\", \"image\")\n",
    "np_path = os.path.join(\"C:\\\\Users\\\\andra\\\\guorbit\\\\batch_dataset\", \"b_tr\", \"image\")\n",
    "files_to_load = sorted(os.listdir(path))[0:batch_size]\n",
    "path_to_files = [os.path.join(path, file) for file in files_to_load]\n",
    "print(path_to_files)"
   ]
  },
  {
   "cell_type": "code",
   "execution_count": 3,
   "metadata": {},
   "outputs": [
    {
     "name": "stderr",
     "output_type": "stream",
     "text": [
      "c:\\Users\\andra\\anaconda3\\envs\\land_class\\lib\\site-packages\\rasterio\\__init__.py:319: NotGeoreferencedWarning: Dataset has no geotransform, gcps, or rpcs. The identity matrix will be returned.\n",
      "  dataset = DatasetReader(path, driver=driver, sharing=sharing, **kwargs)\n"
     ]
    },
    {
     "name": "stdout",
     "output_type": "stream",
     "text": [
      "1.32 s ± 86.7 ms per loop (mean ± std. dev. of 7 runs, 10 loops each)\n"
     ]
    }
   ],
   "source": [
    "%%timeit -n 10\n",
    "# Open the raster file\n",
    "for i in path_to_files:\n",
    "    with rasterio.open(i) as file:\n",
    "        image = file.read()\n"
   ]
  },
  {
   "cell_type": "code",
   "execution_count": 4,
   "metadata": {},
   "outputs": [
    {
     "name": "stdout",
     "output_type": "stream",
     "text": [
      "2.7 s ± 981 ms per loop (mean ± std. dev. of 7 runs, 10 loops each)\n"
     ]
    }
   ],
   "source": [
    "%%timeit -n 10\n",
    "#open files with cv2\n",
    "for i in path_to_files:\n",
    "    image = cv2.imread(i)"
   ]
  },
  {
   "cell_type": "code",
   "execution_count": 5,
   "metadata": {},
   "outputs": [
    {
     "name": "stdout",
     "output_type": "stream",
     "text": [
      "217 ms ± 14 ms per loop (mean ± std. dev. of 7 runs, 10 loops each)\n"
     ]
    }
   ],
   "source": [
    "%%timeit -n 10\n",
    "#open files with PIL\n",
    "for i in path_to_files:\n",
    "    image = Image.open(i)"
   ]
  },
  {
   "cell_type": "code",
   "execution_count": 29,
   "metadata": {},
   "outputs": [],
   "source": [
    "\n",
    "#open files with numpy\n",
    "batch = np.load(os.path.join(np_path, \"0.npy\"))\n"
   ]
  },
  {
   "cell_type": "code",
   "execution_count": 8,
   "metadata": {},
   "outputs": [],
   "source": [
    "batch_path = os.path.join(np_path, \"0.npy\")"
   ]
  },
  {
   "cell_type": "code",
   "execution_count": 17,
   "metadata": {},
   "outputs": [
    {
     "name": "stdout",
     "output_type": "stream",
     "text": [
      "72.4 ms ± 2.14 ms per loop (mean ± std. dev. of 7 runs, 10 loops each)\n"
     ]
    }
   ],
   "source": [
    "%%timeit -n 10\n",
    "#open files with numpy\n",
    "batch = np.load(batch_path)"
   ]
  },
  {
   "cell_type": "code",
   "execution_count": 4,
   "metadata": {},
   "outputs": [],
   "source": [
    "from concurrent.futures import ThreadPoolExecutor\n",
    "import rasterio"
   ]
  },
  {
   "cell_type": "code",
   "execution_count": 49,
   "metadata": {},
   "outputs": [
    {
     "name": "stdout",
     "output_type": "stream",
     "text": [
      "1.13 s ± 123 ms per loop (mean ± std. dev. of 7 runs, 1 loop each)\n"
     ]
    }
   ],
   "source": [
    "%%timeit\n",
    "\n",
    "def read_file(file_path):\n",
    "    with rasterio.open(file_path) as file:\n",
    "        image = file.read()\n",
    "        # Do something with the image\n",
    "#path_to_files = [\"file1.tif\", \"file2.tif\", \"file3.tif\"]  # Replace with your actual file paths\n",
    "\n",
    "with ThreadPoolExecutor() as executor:\n",
    "    executor.map(read_file, path_to_files)\n",
    "\n",
    "\n"
   ]
  },
  {
   "cell_type": "code",
   "execution_count": 52,
   "metadata": {},
   "outputs": [
    {
     "name": "stdout",
     "output_type": "stream",
     "text": [
      "433 ms ± 20 ms per loop (mean ± std. dev. of 7 runs, 1 loop each)\n"
     ]
    }
   ],
   "source": [
    "%%timeit\n",
    "def read_file(file_path):\n",
    "    image = cv2.imread(file_path)\n",
    "    # Do something with the image\n",
    "\n",
    "\n",
    "with ThreadPoolExecutor() as executor:\n",
    "    executor.map(read_file, path_to_files)\n",
    "        \n",
    "\n",
    "# Measure the time taken for 100 iterations\n",
    "\n"
   ]
  },
  {
   "cell_type": "code",
   "execution_count": 53,
   "metadata": {},
   "outputs": [
    {
     "name": "stdout",
     "output_type": "stream",
     "text": [
      "109 ms ± 9.82 ms per loop (mean ± std. dev. of 7 runs, 10 loops each)\n"
     ]
    }
   ],
   "source": [
    "%%timeit\n",
    "def read_file(file_path):\n",
    "    image = Image.open(file_path)\n",
    "    # Do something with the image\n",
    "\n",
    "with ThreadPoolExecutor() as executor:\n",
    "    executor.map(read_file, path_to_files)"
   ]
  },
  {
   "cell_type": "code",
   "execution_count": 5,
   "metadata": {},
   "outputs": [],
   "source": [
    "batch_paths = [os.path.join(np_path, str(i)+\".npy\") for i in range(20)]"
   ]
  },
  {
   "cell_type": "code",
   "execution_count": 6,
   "metadata": {},
   "outputs": [],
   "source": [
    "import asyncio\n",
    "import aiofiles\n",
    "from io import BytesIO"
   ]
  },
  {
   "cell_type": "code",
   "execution_count": 7,
   "metadata": {},
   "outputs": [
    {
     "name": "stdout",
     "output_type": "stream",
     "text": [
      "(20, 128, 512, 512, 4)\n",
      "(20, 128, 512, 512, 4)\n",
      "(20, 128, 512, 512, 4)\n",
      "(20, 128, 512, 512, 4)\n",
      "(20, 128, 512, 512, 4)\n",
      "(20, 128, 512, 512, 4)\n",
      "(20, 128, 512, 512, 4)\n",
      "(20, 128, 512, 512, 4)\n",
      "1.86 s ± 413 ms per loop (mean ± std. dev. of 7 runs, 1 loop each)\n"
     ]
    }
   ],
   "source": [
    "%%timeit\n",
    "def read_file(file_path):\n",
    "    batch = np.load(file_path)\n",
    "    # Do something with the image\n",
    "    return batch\n",
    "\n",
    "results = []\n",
    "\n",
    "with ThreadPoolExecutor() as executor:\n",
    "    results = list(executor.map(read_file, batch_paths))\n",
    "\n",
    "\n",
    "print(np.array(results).shape)\n"
   ]
  },
  {
   "cell_type": "code",
   "execution_count": 27,
   "metadata": {},
   "outputs": [
    {
     "name": "stdout",
     "output_type": "stream",
     "text": [
      "(4, 128, 4, 512, 512)\n"
     ]
    }
   ],
   "source": [
    "\n",
    "\n",
    "async def read_file_async(file_path):\n",
    "    async with aiofiles.open(file_path, mode='rb') as f:\n",
    "        content = await f.read()\n",
    "        batch = np.load(BytesIO(content))\n",
    "    return batch\n",
    "\n",
    "async def main(batch_paths):\n",
    "    tasks = []\n",
    "    for path in batch_paths:\n",
    "        task = asyncio.ensure_future(read_file_async(path))\n",
    "        tasks.append(task)\n",
    "\n",
    "    results = await asyncio.gather(*tasks)\n",
    "    return np.array(results)\n",
    "\n",
    "results = await main(batch_paths)\n",
    "print(results.shape)\n"
   ]
  },
  {
   "cell_type": "code",
   "execution_count": null,
   "metadata": {},
   "outputs": [],
   "source": []
  },
  {
   "cell_type": "code",
   "execution_count": null,
   "metadata": {},
   "outputs": [],
   "source": []
  }
 ],
 "metadata": {
  "kernelspec": {
   "display_name": "land_class",
   "language": "python",
   "name": "python3"
  },
  "language_info": {
   "codemirror_mode": {
    "name": "ipython",
    "version": 3
   },
   "file_extension": ".py",
   "mimetype": "text/x-python",
   "name": "python",
   "nbconvert_exporter": "python",
   "pygments_lexer": "ipython3",
   "version": "3.10.12"
  },
  "orig_nbformat": 4
 },
 "nbformat": 4,
 "nbformat_minor": 2
}
